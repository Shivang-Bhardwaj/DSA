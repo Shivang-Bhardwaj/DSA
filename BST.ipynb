{
 "cells": [
  {
   "cell_type": "code",
   "execution_count": null,
   "metadata": {},
   "outputs": [],
   "source": [
    "class BSTnode:\n",
    "    def __init__(self,data):\n",
    "        self.left = None\n",
    "        self.data = data\n",
    "        self.right = None\n",
    "\n",
    "    def add_child(self, data):\n",
    "        if data == self.data:   # in BST, duplication not allowed\n",
    "            return              # node already exists\n",
    "        elif data < self.data:\n",
    "            if self.left:       # agar self ke left mein kuch h to ...\n",
    "                self.left.add_child(data)\n",
    "            else:\n",
    "                self.left = BSTnode(data)\n",
    "        else:\n",
    "            if self.right:      # agar self ke right mein kuch h to ...\n",
    "                self.right.add_child(data)\n",
    "            else:\n",
    "                self.right = BSTnode(data)\n",
    "\n",
    "    def search(self, val):\n",
    "        if self.data == val:\n",
    "            return True\n",
    "        elif val < self.data:\n",
    "            if self.left:\n",
    "                return self.left.search(val)\n",
    "            else:\n",
    "                return False\n",
    "        else:\n",
    "            if self.right:\n",
    "                return self.right.search(val)\n",
    "            else:\n",
    "                return False\n",
    "\n",
    "    def in_order_traversal(self):\n",
    "        elements = []\n",
    "        if self.left:\n",
    "            elements += self.left.in_order_traversal()\n",
    "\n",
    "        elements.append(self.data)\n",
    "\n",
    "        if self.right:\n",
    "            elements += self.right.in_order_traversal()\n",
    "\n",
    "        return elements\n",
    "\n",
    "    def find_min(self):\n",
    "        if self.left == None:\n",
    "            return self.data\n",
    "        return self.left.find_min()\n",
    "\n",
    "    def find_max(self):\n",
    "        if self.right == None:\n",
    "            return self.data\n",
    "        return self.right.find_max()\n",
    "\n",
    "    def delete(self, val):\n",
    "        if val < self.data:\n",
    "            if self.left:\n",
    "                self.left = self.left.delete(val)\n",
    "        elif val > self.data:\n",
    "            if self.right:\n",
    "                self.right = self.right.delete(val)\n",
    "        else:\n",
    "            if self.left == None and self.right == None:    # case 1\n",
    "                return None\n",
    "            elif self.left == None:    # case 2\n",
    "                return self.right\n",
    "            elif self.right == None:    # case 2\n",
    "                return self.left\n",
    "            else:     # case 3\n",
    "                min_val = self.right.find_min()\n",
    "                self.data = min_val\n",
    "                self.right = self.right.delete(min_val)\n",
    "\n",
    "        return self"
   ]
  },
  {
   "cell_type": "code",
   "execution_count": null,
   "metadata": {},
   "outputs": [],
   "source": [
    "def build_tree(elements):\n",
    "    root = BSTnode(elements[0])\n",
    "    for i in range(1, len(elements)):\n",
    "        root.add_child(elements[i])\n",
    "\n",
    "    return root"
   ]
  },
  {
   "cell_type": "code",
   "execution_count": null,
   "metadata": {},
   "outputs": [
    {
     "name": "stdout",
     "output_type": "stream",
     "text": [
      "UK is in the list?  True\n",
      "Sweden is in the list?  False\n",
      "In order traversal gives this sorted list: [1, 4, 9, 17, 18, 20, 23, 34]\n"
     ]
    }
   ],
   "source": [
    "if __name__ == '__main__':\n",
    "    countries = [\"India\",\"Pakistan\",\"Germany\", \"USA\",\"China\",\"India\",\"UK\",\"USA\"]\n",
    "    country_tree = build_tree(countries)\n",
    "\n",
    "    print(\"UK is in the list? \", country_tree.search(\"UK\"))\n",
    "    print(\"Sweden is in the list? \", country_tree.search(\"Sweden\"))\n",
    "\n",
    "    numbers_tree = build_tree([17, 4, 1, 20, 9, 23, 18, 34])\n",
    "    print(\"In order traversal gives this sorted list:\",numbers_tree.in_order_traversal())"
   ]
  },
  {
   "cell_type": "code",
   "execution_count": null,
   "metadata": {},
   "outputs": [],
   "source": [
    "if __name__ == '__main__':\n",
    "    numbers_tree = build_tree([17, 4, 1, 20, 9, 23, 18, 34])\n",
    "    numbers_tree.delete(20)\n",
    "    print(\"After deleting 20 \",numbers_tree.in_order_traversal()) # this should print [1, 4, 9, 17, 18, 23, 34]\n",
    "\n",
    "    numbers_tree = build_tree([17, 4, 1, 20, 9, 23, 18, 34])\n",
    "    numbers_tree.delete(9)\n",
    "    print(\"After deleting 9 \",numbers_tree.in_order_traversal())  # this should print [1, 4, 17, 18, 20, 23, 34]\n",
    "\n",
    "    numbers_tree = build_tree([17, 4, 1, 20, 9, 23, 18, 34])\n",
    "    numbers_tree.delete(17)\n",
    "    print(\"After deleting 17 \",numbers_tree.in_order_traversal())  # this should print [1, 4, 9, 18, 20, 23, 34]"
   ]
  },
  {
   "cell_type": "code",
   "execution_count": null,
   "metadata": {},
   "outputs": [],
   "source": [
    "print('hello world')"
   ]
  }
 ],
 "metadata": {
  "interpreter": {
   "hash": "c0131604e582c52fa77586d2de2dac7a0cf65e3a83dcb3fcf88771dcfa1010b8"
  },
  "kernelspec": {
   "display_name": "Python 3.9.0 64-bit",
   "language": "python",
   "name": "python3"
  },
  "language_info": {
   "codemirror_mode": {
    "name": "ipython",
    "version": 3
   },
   "file_extension": ".py",
   "mimetype": "text/x-python",
   "name": "python",
   "nbconvert_exporter": "python",
   "pygments_lexer": "ipython3",
   "version": "3.9.0"
  },
  "orig_nbformat": 4
 },
 "nbformat": 4,
 "nbformat_minor": 2
}
