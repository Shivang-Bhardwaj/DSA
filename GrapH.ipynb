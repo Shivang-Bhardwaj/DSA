{
 "cells": [
  {
   "cell_type": "code",
   "execution_count": null,
   "metadata": {},
   "outputs": [],
   "source": [
    "# insertion\n",
    "# ---------------------- in adjacency matrix representation -------------------"
   ]
  },
  {
   "cell_type": "code",
   "execution_count": 7,
   "metadata": {},
   "outputs": [],
   "source": [
    "def add_node(v):\n",
    "    global nodes, graph, node_count\n",
    "    if v in nodes:\n",
    "        print(v,\"is already in graph\")\n",
    "    else:\n",
    "        node_count += 1\n",
    "        nodes.append(v)\n",
    "        for n in graph:\n",
    "            n.append(0)       # adding new column\n",
    "        new_row = [0 for _ in range(node_count)]\n",
    "        graph.append(new_row)   # adding new row\n",
    "\n",
    "\n",
    "def print_graph():\n",
    "    for i in range(node_count):         # printing adjacency matrix\n",
    "        for j in range(node_count):\n",
    "            print(graph[i][j], end=' ')\n",
    "        print()\n",
    "\n",
    "\n",
    "nodes = []\n",
    "graph = []\n",
    "node_count = 0\n"
   ]
  },
  {
   "cell_type": "code",
   "execution_count": 26,
   "metadata": {},
   "outputs": [],
   "source": [
    "add_node(\"A\")"
   ]
  },
  {
   "cell_type": "code",
   "execution_count": 27,
   "metadata": {},
   "outputs": [
    {
     "name": "stdout",
     "output_type": "stream",
     "text": [
      "A is already in graph\n"
     ]
    }
   ],
   "source": [
    "add_node(\"A\")"
   ]
  },
  {
   "cell_type": "code",
   "execution_count": 28,
   "metadata": {},
   "outputs": [],
   "source": [
    "add_node(\"B\")\n",
    "add_node(\"C\")"
   ]
  },
  {
   "cell_type": "code",
   "execution_count": 29,
   "metadata": {},
   "outputs": [
    {
     "name": "stdout",
     "output_type": "stream",
     "text": [
      "0 0 0 \n",
      "0 0 0 \n",
      "0 0 0 \n"
     ]
    }
   ],
   "source": [
    "print_graph()"
   ]
  },
  {
   "cell_type": "code",
   "execution_count": 35,
   "metadata": {},
   "outputs": [],
   "source": [
    "def add_edge(v1, v2):    # for undirected unweighted graph\n",
    "    global graph\n",
    "    if v1 not in nodes:\n",
    "        print(v1,\"is not present in graph\")\n",
    "    elif v2 not in nodes:\n",
    "        print(v2, \"is not present in graph\")\n",
    "    else:\n",
    "        idx1 = nodes.index(v1)\n",
    "        idx2 = nodes.index(v2)\n",
    "        graph[idx1][idx2] = 1\n",
    "        graph[idx2][idx1] = 1"
   ]
  },
  {
   "cell_type": "code",
   "execution_count": 36,
   "metadata": {},
   "outputs": [
    {
     "name": "stdout",
     "output_type": "stream",
     "text": [
      "0 1 1 \n",
      "1 0 0 \n",
      "1 0 0 \n"
     ]
    }
   ],
   "source": [
    "add_node(\"A\")\n",
    "add_node(\"B\")\n",
    "add_node(\"C\")\n",
    "add_edge(\"A\", \"B\")\n",
    "add_edge(\"A\",\"C\")\n",
    "print_graph()"
   ]
  },
  {
   "cell_type": "code",
   "execution_count": 8,
   "metadata": {},
   "outputs": [],
   "source": [
    "def add_edge(v1, v2, cost):    # for undirected weighted graph\n",
    "    global graph\n",
    "    if v1 not in nodes:\n",
    "        print(v1,\"is not present in graph\")\n",
    "    elif v2 not in nodes:\n",
    "        print(v2, \"is not present in graph\")\n",
    "    else:\n",
    "        idx1 = nodes.index(v1)\n",
    "        idx2 = nodes.index(v2)\n",
    "        graph[idx1][idx2] = cost\n",
    "        graph[idx2][idx1] = cost\n",
    "\n",
    "# add_node(\"A\")\n",
    "# add_node(\"B\")\n",
    "# add_node(\"C\")\n",
    "# add_edge(\"A\", \"B\", 10)\n",
    "# add_edge(\"A\",\"C\", 5)\n",
    "# print_graph()"
   ]
  },
  {
   "cell_type": "code",
   "execution_count": 5,
   "metadata": {},
   "outputs": [
    {
     "name": "stdout",
     "output_type": "stream",
     "text": [
      "0 10 5 \n",
      "0 0 0 \n",
      "0 0 0 \n"
     ]
    }
   ],
   "source": [
    "def add_edge(v1, v2, cost):    # for directed weighted graph\n",
    "    global graph\n",
    "    if v1 not in nodes:\n",
    "        print(v1,\"is not present in graph\")\n",
    "    elif v2 not in nodes:\n",
    "        print(v2, \"is not present in graph\")\n",
    "    else:\n",
    "        idx1 = nodes.index(v1)\n",
    "        idx2 = nodes.index(v2)\n",
    "        graph[idx1][idx2] = cost\n",
    "\n",
    "add_node(\"A\")\n",
    "add_node(\"B\")\n",
    "add_node(\"C\")\n",
    "add_edge(\"A\", \"B\", 10)\n",
    "add_edge(\"A\",\"C\", 5)\n",
    "print_graph()"
   ]
  },
  {
   "cell_type": "code",
   "execution_count": 6,
   "metadata": {},
   "outputs": [
    {
     "name": "stdout",
     "output_type": "stream",
     "text": [
      "A is already in graph\n",
      "B is already in graph\n",
      "C is already in graph\n",
      "0 1 1 \n",
      "0 0 0 \n",
      "0 0 0 \n"
     ]
    }
   ],
   "source": [
    "def add_edge(v1, v2):    # for directed unweighted graph\n",
    "    global graph\n",
    "    if v1 not in nodes:\n",
    "        print(v1,\"is not present in graph\")\n",
    "    elif v2 not in nodes:\n",
    "        print(v2, \"is not present in graph\")\n",
    "    else:\n",
    "        idx1 = nodes.index(v1)\n",
    "        idx2 = nodes.index(v2)\n",
    "        graph[idx1][idx2] = 1\n",
    "\n",
    "add_node(\"A\")\n",
    "add_node(\"B\")\n",
    "add_node(\"C\")\n",
    "add_edge(\"A\", \"B\")\n",
    "add_edge(\"A\",\"C\")\n",
    "print_graph()"
   ]
  },
  {
   "cell_type": "code",
   "execution_count": 48,
   "metadata": {},
   "outputs": [],
   "source": [
    "# insertion\n",
    "# -------------------------   in adjacency list representation -----------------"
   ]
  },
  {
   "cell_type": "code",
   "execution_count": 4,
   "metadata": {},
   "outputs": [],
   "source": [
    "def add_node(v):\n",
    "    global graph\n",
    "    if v in graph:\n",
    "        print(f\"{v} is already in graph\")\n",
    "    else:\n",
    "        graph[v]=[]\n",
    "graph={}"
   ]
  },
  {
   "cell_type": "code",
   "execution_count": 59,
   "metadata": {},
   "outputs": [
    {
     "name": "stdout",
     "output_type": "stream",
     "text": [
      "{'A': []}\n"
     ]
    }
   ],
   "source": [
    "add_node('A')\n",
    "print(graph)"
   ]
  },
  {
   "cell_type": "code",
   "execution_count": 60,
   "metadata": {},
   "outputs": [
    {
     "name": "stdout",
     "output_type": "stream",
     "text": [
      "A is already in graph\n",
      "{'A': []}\n"
     ]
    }
   ],
   "source": [
    "add_node('A')\n",
    "print(graph)"
   ]
  },
  {
   "cell_type": "code",
   "execution_count": 61,
   "metadata": {},
   "outputs": [
    {
     "name": "stdout",
     "output_type": "stream",
     "text": [
      "{'A': [], 'B': []}\n"
     ]
    }
   ],
   "source": [
    "add_node(\"B\")\n",
    "print(graph)"
   ]
  },
  {
   "cell_type": "code",
   "execution_count": 5,
   "metadata": {},
   "outputs": [],
   "source": [
    "def add_edge(v1, v2):     #undirected unweighted graph\n",
    "    if v1 not in graph:\n",
    "        print(f\"{v1} is not present in graph\")\n",
    "    elif v2 not in graph:\n",
    "        print(f'{v2} is not present in graph')\n",
    "    else:\n",
    "        graph[v1].append(v2)\n",
    "        graph[v2].append(v1)\n",
    "\n",
    "# add_node('A')\n",
    "# add_node('B')\n",
    "# add_node('C')\n",
    "# add_edge('A','B')\n",
    "# print(graph)"
   ]
  },
  {
   "cell_type": "code",
   "execution_count": 23,
   "metadata": {},
   "outputs": [],
   "source": [
    "def add_edge(v1, v2, cost):     #undirected weighted graph\n",
    "    if v1 not in graph:\n",
    "        print(f\"{v1} is not present in graph\")\n",
    "    elif v2 not in graph:\n",
    "        print(f'{v2} is not present in graph')\n",
    "    else:\n",
    "        graph[v1].append([v2,cost])\n",
    "        graph[v2].append([v1,cost])\n",
    "\n",
    "# add_node('A')\n",
    "# add_node('B')\n",
    "# add_node('C')\n",
    "# add_edge('A','B',10)\n",
    "# add_edge('A','C',5)\n",
    "# print(graph)"
   ]
  },
  {
   "cell_type": "code",
   "execution_count": 74,
   "metadata": {},
   "outputs": [
    {
     "name": "stdout",
     "output_type": "stream",
     "text": [
      "{'A': ['B'], 'B': [], 'C': []}\n"
     ]
    }
   ],
   "source": [
    "def add_edge(v1, v2):     # directed unweighted graph\n",
    "    if v1 not in graph:\n",
    "        print(f\"{v1} is not present in graph\")\n",
    "    elif v2 not in graph:\n",
    "        print(f'{v2} is not present in graph')\n",
    "    else:\n",
    "        graph[v1].append(v2)\n",
    "        # graph[v2].append(v1)\n",
    "\n",
    "add_node('A')\n",
    "add_node('B')\n",
    "add_node('C')\n",
    "add_edge('A','B')\n",
    "print(graph)"
   ]
  },
  {
   "cell_type": "code",
   "execution_count": 76,
   "metadata": {},
   "outputs": [
    {
     "name": "stdout",
     "output_type": "stream",
     "text": [
      "{'A': [['B', 10], ['C', 5]], 'B': [], 'C': []}\n"
     ]
    }
   ],
   "source": [
    "def add_edge(v1, v2, cost):     #directed weighted graph\n",
    "    if v1 not in graph:\n",
    "        print(f\"{v1} is not present in graph\")\n",
    "    elif v2 not in graph:\n",
    "        print(f'{v2} is not present in graph')\n",
    "    else:\n",
    "        graph[v1].append([v2,cost])\n",
    "        # graph[v2].append([v1,cost])\n",
    "\n",
    "add_node('A')\n",
    "add_node('B')\n",
    "add_node('C')\n",
    "add_edge('A','B',10)\n",
    "add_edge('A','C',5)\n",
    "print(graph)"
   ]
  },
  {
   "cell_type": "code",
   "execution_count": null,
   "metadata": {},
   "outputs": [],
   "source": []
  },
  {
   "cell_type": "code",
   "execution_count": null,
   "metadata": {},
   "outputs": [],
   "source": []
  },
  {
   "cell_type": "code",
   "execution_count": null,
   "metadata": {},
   "outputs": [],
   "source": []
  },
  {
   "cell_type": "code",
   "execution_count": 77,
   "metadata": {},
   "outputs": [],
   "source": [
    "# deletion\n",
    "# --------------------------   in adjacency matrix repr  ----------------------"
   ]
  },
  {
   "cell_type": "code",
   "execution_count": 9,
   "metadata": {},
   "outputs": [],
   "source": [
    "def delete_node(v):    # work for all types of graph\n",
    "    global nodes, node_count, graph\n",
    "    if v not in nodes:\n",
    "        print(v,\"is not present in graph\")\n",
    "    else:\n",
    "        idx = nodes.index(v)\n",
    "        nodes.remove(v)\n",
    "        node_count -= 1\n",
    "        graph.pop(idx)\n",
    "        for i in graph:\n",
    "            i.pop(idx)"
   ]
  },
  {
   "cell_type": "code",
   "execution_count": 10,
   "metadata": {},
   "outputs": [
    {
     "name": "stdout",
     "output_type": "stream",
     "text": [
      "0 10 \n",
      "10 0 \n",
      "0 \n"
     ]
    }
   ],
   "source": [
    "add_node('A')\n",
    "add_node('B')\n",
    "add_edge('A','B',10)\n",
    "print_graph()\n",
    "delete_node('A')\n",
    "print_graph()"
   ]
  },
  {
   "cell_type": "code",
   "execution_count": 12,
   "metadata": {},
   "outputs": [],
   "source": [
    "def delete_edge(v1, v2):  # undirected unweighted & undirected weighted graph\n",
    "    global graph\n",
    "    if v1 not in nodes:\n",
    "        print(v1,\"is not present in graph\")\n",
    "    elif v2 not in nodes:\n",
    "        print(v2,\"is not present in graph\")\n",
    "    else:\n",
    "        idx1 = nodes.index(v1)\n",
    "        idx2 = nodes.index(v2)\n",
    "        graph[idx1][idx2] = 0\n",
    "        graph[idx2][idx1] = 0"
   ]
  },
  {
   "cell_type": "code",
   "execution_count": 13,
   "metadata": {},
   "outputs": [],
   "source": [
    "def delete_edge(v1, v2):  # directed unweighted & directed weighted graph\n",
    "    global graph\n",
    "    if v1 not in nodes:\n",
    "        print(v1,\"is not present in graph\")\n",
    "    elif v2 not in nodes:\n",
    "        print(v2,\"is not present in graph\")\n",
    "    else:\n",
    "        idx1 = nodes.index(v1)\n",
    "        idx2 = nodes.index(v2)\n",
    "        graph[idx1][idx2] = 0\n",
    "        # graph[idx2][idx1] = 0"
   ]
  },
  {
   "cell_type": "code",
   "execution_count": 14,
   "metadata": {},
   "outputs": [],
   "source": [
    "# deletion\n",
    "# -------------------------   in adjacency list repr ---------------------"
   ]
  },
  {
   "cell_type": "code",
   "execution_count": 16,
   "metadata": {},
   "outputs": [],
   "source": [
    "def delete_node(v):  # undirected unweighted & directed unweighted graph\n",
    "    if v not in graph:\n",
    "        print(v,\"is not present in graph\")\n",
    "    else:\n",
    "        graph.pop(v)\n",
    "        for key in graph:\n",
    "            l = graph[key]\n",
    "            if v in l:\n",
    "                l.remove(v)"
   ]
  },
  {
   "cell_type": "code",
   "execution_count": 18,
   "metadata": {},
   "outputs": [],
   "source": [
    "def delete_node(v):  # for weighted graph\n",
    "    if v not in graph:\n",
    "        print(v,\"is not present in graph\")\n",
    "    else:\n",
    "        graph.pop(v)\n",
    "        for key in graph:\n",
    "            l = graph[key]\n",
    "            for j in l:\n",
    "                if v == j[0]:\n",
    "                    l.remove(j)\n",
    "                    break"
   ]
  },
  {
   "cell_type": "code",
   "execution_count": 19,
   "metadata": {},
   "outputs": [],
   "source": [
    "def delete_edge(v1, v2):  # undirected unweighted\n",
    "    global graph\n",
    "    if v1 not in graph:\n",
    "        print(v1,\"is not present in graph\")\n",
    "    elif v2 not in graph:\n",
    "        print(v2,\"is not present in graph\")\n",
    "    else:\n",
    "        if v2 in graph[v1]:\n",
    "            graph[v1].remove(v2)\n",
    "            graph[v2].remove(v1)"
   ]
  },
  {
   "cell_type": "code",
   "execution_count": 20,
   "metadata": {},
   "outputs": [],
   "source": [
    "def delete_edge(v1, v2):  # directed unweighted\n",
    "    global graph\n",
    "    if v1 not in graph:\n",
    "        print(v1,\"is not present in graph\")\n",
    "    elif v2 not in graph:\n",
    "        print(v2,\"is not present in graph\")\n",
    "    else:\n",
    "        if v2 in graph[v1]:\n",
    "            graph[v1].remove(v2)\n",
    "            # graph[v2].remove(v1)"
   ]
  },
  {
   "cell_type": "code",
   "execution_count": 24,
   "metadata": {},
   "outputs": [],
   "source": [
    "def delete_edge(v1, v2):  # undirected weighted\n",
    "    global graph\n",
    "    if v1 not in graph:\n",
    "        print(v1,\"is not present in graph\")\n",
    "    elif v2 not in graph:\n",
    "        print(v2,\"is not present in graph\")\n",
    "    else:\n",
    "        for i in graph[v1]:\n",
    "            if v2 == i[0]:\n",
    "                graph[v1].remove(i)\n",
    "                break\n",
    "        for i in graph[v2]:\n",
    "            if v1 == i[0]:\n",
    "                graph[v2].remove(i)\n",
    "                break"
   ]
  },
  {
   "cell_type": "code",
   "execution_count": 25,
   "metadata": {},
   "outputs": [
    {
     "name": "stdout",
     "output_type": "stream",
     "text": [
      "{'A': [['B', 10], ['C', 5], ['D', 4]], 'B': [['A', 10], ['E', 3], ['D', 7]], 'C': [['A', 5], ['D', 1]], 'D': [['A', 4], ['B', 7], ['C', 1], ['E', 2]], 'E': [['B', 3], ['D', 2]]}\n",
      "{'A': [['B', 10], ['C', 5], ['D', 4]], 'B': [['A', 10], ['E', 3], ['D', 7]], 'C': [['A', 5]], 'D': [['A', 4], ['B', 7], ['E', 2]], 'E': [['B', 3], ['D', 2]]}\n"
     ]
    }
   ],
   "source": [
    "add_node('A')\n",
    "add_node('B')\n",
    "add_node('C')\n",
    "add_node('D')\n",
    "add_node('E')\n",
    "\n",
    "add_edge('A','B',10)\n",
    "add_edge('B','E',3)\n",
    "add_edge('A','C',5)\n",
    "add_edge('A','D',4)\n",
    "add_edge('B','D',7)\n",
    "add_edge('C','D',1)\n",
    "add_edge('E','D',2)\n",
    "\n",
    "print(graph)\n",
    "delete_edge('C','D')\n",
    "print(graph)"
   ]
  },
  {
   "cell_type": "code",
   "execution_count": null,
   "metadata": {},
   "outputs": [],
   "source": [
    "def delete_edge(v1, v2):  # directed weighted\n",
    "    global graph\n",
    "    if v1 not in graph:\n",
    "        print(v1,\"is not present in graph\")\n",
    "    elif v2 not in graph:\n",
    "        print(v2,\"is not present in graph\")\n",
    "    else:\n",
    "        for i in graph[v1]:\n",
    "            if v2 == i[0]:\n",
    "                graph[v1].remove(i)\n",
    "                break\n",
    "        # for i in graph[v2]:\n",
    "        #     if v1 == i[0]:\n",
    "        #         graph[v2].remove(i)\n",
    "        #         break"
   ]
  },
  {
   "cell_type": "code",
   "execution_count": null,
   "metadata": {},
   "outputs": [],
   "source": []
  },
  {
   "cell_type": "code",
   "execution_count": null,
   "metadata": {},
   "outputs": [],
   "source": []
  },
  {
   "cell_type": "code",
   "execution_count": null,
   "metadata": {},
   "outputs": [],
   "source": []
  },
  {
   "cell_type": "code",
   "execution_count": 26,
   "metadata": {},
   "outputs": [],
   "source": [
    "# ---------------------------------   traversal    ----------------------------------------\n",
    "# here we hv assumed that graph is in adjacency list repr"
   ]
  },
  {
   "cell_type": "code",
   "execution_count": 6,
   "metadata": {},
   "outputs": [
    {
     "name": "stdout",
     "output_type": "stream",
     "text": [
      "{'A': ['B', 'C', 'D'], 'B': ['A', 'E', 'D'], 'C': ['A', 'D'], 'D': ['A', 'B', 'C', 'E'], 'E': ['B', 'D']}\n"
     ]
    }
   ],
   "source": [
    "add_node('A')\n",
    "add_node('B')\n",
    "add_node('C')\n",
    "add_node('D')\n",
    "add_node('E')\n",
    "\n",
    "add_edge('A','B')\n",
    "add_edge('B','E')\n",
    "add_edge('A','C')\n",
    "add_edge('A','D')\n",
    "add_edge('B','D')\n",
    "add_edge('C','D')\n",
    "add_edge('E','D')\n",
    "print(graph)"
   ]
  },
  {
   "cell_type": "code",
   "execution_count": 35,
   "metadata": {},
   "outputs": [],
   "source": [
    "visited=set()\n",
    "\n",
    "def DFSrecursive(node, visited, graph):\n",
    "    if node not in graph:\n",
    "        print(\"Node is not present in graph\")\n",
    "        return \n",
    "\n",
    "    if node not in visited:\n",
    "        print(node)\n",
    "        visited.add(node)\n",
    "        for adj_node in graph[node]:\n",
    "            DFSrecursive(adj_node, visited, graph)"
   ]
  },
  {
   "cell_type": "code",
   "execution_count": 36,
   "metadata": {},
   "outputs": [
    {
     "name": "stdout",
     "output_type": "stream",
     "text": [
      "A\n",
      "B\n",
      "E\n",
      "D\n",
      "C\n"
     ]
    }
   ],
   "source": [
    "DFSrecursive('A',visited, graph)"
   ]
  },
  {
   "cell_type": "code",
   "execution_count": 7,
   "metadata": {},
   "outputs": [],
   "source": [
    "def DFSiterative(node, graph):\n",
    "    visited = set()\n",
    "    if node not in graph:\n",
    "        print(\"Node is not present in graph\")\n",
    "        return\n",
    "    stack = []\n",
    "    stack.append(node)\n",
    "    while stack:\n",
    "        popped_element = stack.pop()\n",
    "        if popped_element not in visited:\n",
    "            print(popped_element)\n",
    "            visited.add(popped_element)\n",
    "            for adj_node in graph[popped_element]:\n",
    "                stack.append(adj_node)"
   ]
  },
  {
   "cell_type": "code",
   "execution_count": 8,
   "metadata": {},
   "outputs": [
    {
     "name": "stdout",
     "output_type": "stream",
     "text": [
      "A\n",
      "D\n",
      "E\n",
      "B\n",
      "C\n"
     ]
    }
   ],
   "source": [
    "DFSiterative('A',graph)"
   ]
  },
  {
   "cell_type": "code",
   "execution_count": 9,
   "metadata": {},
   "outputs": [],
   "source": [
    "def BFSiterative(node, graph):\n",
    "    visited = set()\n",
    "    if node not in graph:\n",
    "        print(\"Node is not present in graph\")\n",
    "        return\n",
    "    queue = []\n",
    "    queue.append(node)\n",
    "    while queue:\n",
    "        popped_element = queue.pop(0)\n",
    "        if popped_element not in visited:\n",
    "            print(popped_element)\n",
    "            visited.add(popped_element)\n",
    "            for adj_node in graph[popped_element]:\n",
    "                queue.append(adj_node)"
   ]
  },
  {
   "cell_type": "code",
   "execution_count": 10,
   "metadata": {},
   "outputs": [
    {
     "name": "stdout",
     "output_type": "stream",
     "text": [
      "A\n",
      "B\n",
      "C\n",
      "D\n",
      "E\n"
     ]
    }
   ],
   "source": [
    "BFSiterative('A',graph)"
   ]
  },
  {
   "cell_type": "code",
   "execution_count": 11,
   "metadata": {},
   "outputs": [],
   "source": [
    "visited=set()\n",
    "q=[]\n",
    "def BFSrecursive(node, visited, graph,q):   # graph in adjacency list repr\n",
    "    if node not in graph:\n",
    "        print(\"Node is not present in graph\")\n",
    "        return \n",
    "\n",
    "    if node not in visited:\n",
    "        print(node)\n",
    "        visited.add(node)\n",
    "        for adj_node in graph[node]:\n",
    "            q.append(adj_node)\n",
    "    try:\n",
    "        popped_element = q.pop(0)\n",
    "    except:\n",
    "        return\n",
    "    else:\n",
    "        BFSrecursive(popped_element, visited, graph,q)"
   ]
  },
  {
   "cell_type": "code",
   "execution_count": 13,
   "metadata": {},
   "outputs": [
    {
     "name": "stdout",
     "output_type": "stream",
     "text": [
      "A\n",
      "B\n",
      "C\n",
      "D\n",
      "E\n"
     ]
    }
   ],
   "source": [
    "BFSrecursive('A',visited,graph,q)"
   ]
  },
  {
   "cell_type": "code",
   "execution_count": null,
   "metadata": {},
   "outputs": [],
   "source": []
  }
 ],
 "metadata": {
  "kernelspec": {
   "display_name": "Python 3.9.0 64-bit",
   "language": "python",
   "name": "python3"
  },
  "language_info": {
   "codemirror_mode": {
    "name": "ipython",
    "version": 3
   },
   "file_extension": ".py",
   "mimetype": "text/x-python",
   "name": "python",
   "nbconvert_exporter": "python",
   "pygments_lexer": "ipython3",
   "version": "3.9.0"
  },
  "orig_nbformat": 4,
  "vscode": {
   "interpreter": {
    "hash": "c0131604e582c52fa77586d2de2dac7a0cf65e3a83dcb3fcf88771dcfa1010b8"
   }
  }
 },
 "nbformat": 4,
 "nbformat_minor": 2
}
