{
 "cells": [
  {
   "cell_type": "code",
   "execution_count": 52,
   "metadata": {},
   "outputs": [],
   "source": [
    "class Binary_Heap_max:\n",
    "    def __init__(self, elements):\n",
    "        self.elements = elements\n",
    "        self.heap_size = len(elements)\n",
    "    \n",
    "    def build_heap(self):\n",
    "        for i in range((self.heap_size-1)//2, -1, -1):\n",
    "            self.__heapify(i)\n",
    "        return self.elements\n",
    "\n",
    "    def __heapify(self, node):\n",
    "        largest = node\n",
    "        l = 2*node + 1\n",
    "        r = 2*node +2\n",
    "\n",
    "        if l < self.heap_size and self.elements[l] > self.elements[node]:\n",
    "            largest = l\n",
    "\n",
    "        if r < self.heap_size and self.elements[r] > self.elements[largest]:\n",
    "            largest = r\n",
    "\n",
    "        if largest != node:\n",
    "            self.elements[largest],self.elements[node] = self.elements[node], self.elements[largest]\n",
    "            self.__heapify(largest)\n",
    "        return None\n",
    "\n",
    "    def insertion(self, val):\n",
    "        self.elements.append(val)\n",
    "        self.heap_size += 1\n",
    "        return self.build_heap()\n",
    "\n",
    "    def deletion(self, val):\n",
    "        try:\n",
    "            index = self.elements.index(val)\n",
    "            self.elements[-1],self.elements[index] = self.elements[index],self.elements[-1]\n",
    "            del self.elements[-1]\n",
    "            self.heap_size -= 1\n",
    "            \n",
    "            for i in range(index, -1, -1):\n",
    "                self.__heapify(i)\n",
    "            return self.elements\n",
    "\n",
    "        except:\n",
    "            return f\"{val} not in the max heap\"\n",
    "        "
   ]
  },
  {
   "cell_type": "code",
   "execution_count": 57,
   "metadata": {},
   "outputs": [
    {
     "name": "stdout",
     "output_type": "stream",
     "text": [
      "[16, 14, 10, 8, 7, 9, 3, 2, 4, 1]\n",
      "[16, 14, 10, 8, 7, 1, 3, 2, 4]\n"
     ]
    }
   ],
   "source": [
    "elements = [4,1,3,2,16,9,10,14,8,7]\n",
    "max_h = Binary_Heap_max(elements)\n",
    "print(max_h.build_heap())\n",
    "print(max_h.deletion(9))"
   ]
  },
  {
   "cell_type": "code",
   "execution_count": null,
   "metadata": {},
   "outputs": [],
   "source": []
  }
 ],
 "metadata": {
  "kernelspec": {
   "display_name": "Python 3.9.0 64-bit",
   "language": "python",
   "name": "python3"
  },
  "language_info": {
   "codemirror_mode": {
    "name": "ipython",
    "version": 3
   },
   "file_extension": ".py",
   "mimetype": "text/x-python",
   "name": "python",
   "nbconvert_exporter": "python",
   "pygments_lexer": "ipython3",
   "version": "3.9.0"
  },
  "orig_nbformat": 4,
  "vscode": {
   "interpreter": {
    "hash": "c0131604e582c52fa77586d2de2dac7a0cf65e3a83dcb3fcf88771dcfa1010b8"
   }
  }
 },
 "nbformat": 4,
 "nbformat_minor": 2
}
